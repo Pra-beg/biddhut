{
 "cells": [
  {
   "cell_type": "code",
   "execution_count": 1,
   "metadata": {},
   "outputs": [],
   "source": [
    "import pandas as pd"
   ]
  },
  {
   "cell_type": "code",
   "execution_count": 2,
   "metadata": {},
   "outputs": [],
   "source": [
    "df = pd.read_csv('extracted.csv')"
   ]
  },
  {
   "cell_type": "code",
   "execution_count": 3,
   "metadata": {},
   "outputs": [],
   "source": [
    "exceptions = {\n",
    "        '8703.80.39': '8703.80.29',\n",
    "        '8711.30.19': '8711.30.90',\n",
    "        '8711.90.90': '8711.90',\n",
    "        '8703.80.49': '8703.80.50',\n",
    "        '8704.22.96': '8704.22.99',\n",
    "        '8711.30.11': '8711.30.10',\n",
    "        '8704.90.40': '8704.60',\n",
    "        '8711.30.91': '8711.30.10',\n",
    "        '8711.90.10': '8711.60',\n",
    "        '8711.30.99': '8711.30.90',\n",
    "        '8704.22.94': '8704.22.99',\n",
    "        '8702.10.90': '8702.10.49',\n",
    "        '8703.90.11': '8703.80.11'\n",
    "}"
   ]
  },
  {
   "cell_type": "code",
   "execution_count": 4,
   "metadata": {},
   "outputs": [],
   "source": [
    "def str_hscode(hscode:int):\n",
    "    hscode = str(hscode)\n",
    "    hscode = f'{hscode[:4]}.{hscode[4:6]}.{hscode[6:]}' if len(hscode) == 8 \\\n",
    "        else f'{hscode[:4]}.{hscode[4:6]}' if len(hscode) == 6 else str(hscode)\n",
    "    while hscode.endswith('.00'):\n",
    "            hscode = hscode[:len(hscode)-3]\n",
    "    return hscode"
   ]
  },
  {
   "cell_type": "code",
   "execution_count": 5,
   "metadata": {},
   "outputs": [],
   "source": [
    "def hscode_lookup(hscode: int):\n",
    "    temp = None\n",
    "    lookup = pd.read_csv('hscode/data/fy-2079-80.csv', index_col='Sub-heading')\n",
    "    res = {}\n",
    "    hscode = str_hscode(hscode)\n",
    "    descriptions = []\n",
    "    duties = {}\n",
    "    while hscode:\n",
    "        while hscode.endswith('.00'):\n",
    "            hscode = hscode[:len(hscode)-3]\n",
    "        if not temp:\n",
    "            temp = hscode\n",
    "        hscode = exceptions.get(hscode, hscode)\n",
    "        details = lookup.loc[hscode]\n",
    "        if not duties:\n",
    "            duties['import_duty_saarc'] = details['Import Duty SAARC']\n",
    "            duties['import_duty_general'] = details['Import Duty General']\n",
    "        descriptions.append(details['Description of goods'])\n",
    "        if not hscode.endswith('0') and len(hscode) > 4:\n",
    "            details = lookup.loc[hscode[:-1]+'0']\n",
    "            descriptions.append(details['Description of goods'])\n",
    "        hscode = '.'.join(hscode.split('.')[:len(hscode.split('.'))-1])\n",
    "    res['descriptions'] = descriptions \n",
    "    res['hscode'] = hscode\n",
    "    if duties:\n",
    "        res['duties'] = duties\n",
    "    return res\n"
   ]
  },
  {
   "cell_type": "code",
   "execution_count": 6,
   "metadata": {},
   "outputs": [],
   "source": [
    "matchings = {\n",
    "    'fuel':{\n",
    "        'bev': ['8701.24', '8702.40', '8703.80', '8704.60', '8704.90.20', '8704.90.30', '8711.60'],\n",
    "        'hev': ['8703.60', '8703.70', '8703.40', '8703.50', '8701.22', '8701.23', '8702.20', '8702.30', '8704.40', '8704.50'],\n",
    "    }, \n",
    "    'type': {\n",
    "        'bus':['8702.10.10', '8702.20.10', '8702.30.10', '8702.40.10', '8702.90.10'],\n",
    "        'minibus': ['8702.10.20', '8702.20.20', '8702.30.20', '8702.40.20', '8702.90.20'],\n",
    "        'microbus': ['8702.10.30', '8702.20.30', '8702.30.30', '8702.40.30', '8702.90.30'],\n",
    "        'jeepvan': ['8702.10.4', '8702.20.4', '8702.30.4', '8702.40.4', '8702.90.4'],\n",
    "        'fourwheeler': ['8703'],\n",
    "        'threewheeler': ['8703.21.1', '8703.80.1'],\n",
    "        'threewheelergoods': ['8704.21.40', '8704.31.40', '8704.41.40', '8704.51.40', '8704.60.20', '8704.90.20'],\n",
    "        'twowheeler': ['8711']\n",
    "    }\n",
    "}"
   ]
  },
  {
   "cell_type": "code",
   "execution_count": 7,
   "metadata": {},
   "outputs": [],
   "source": [
    "def get_fuel_type(hscode:str):\n",
    "    for ftype,codes in matchings['fuel'].items():\n",
    "        for code in codes:\n",
    "            if hscode.startswith(code):\n",
    "                return ftype\n",
    "    return 'defacto'"
   ]
  },
  {
   "cell_type": "code",
   "execution_count": 8,
   "metadata": {},
   "outputs": [],
   "source": [
    "def get_vehicle_type(hscode:str):\n",
    "    for vtype, codes in matchings['type'].items():\n",
    "        for code in codes:\n",
    "            if hscode.startswith(code):\n",
    "                return vtype\n",
    "    return 'unknown'"
   ]
  },
  {
   "cell_type": "code",
   "execution_count": 9,
   "metadata": {},
   "outputs": [],
   "source": [
    "new_df = pd.DataFrame()\n",
    "for i, row in df.iterrows():\n",
    "    hscode = str_hscode(row['hscode'])\n",
    "\n",
    "    ftype = get_fuel_type(hscode)\n",
    "    vtype = get_vehicle_type(hscode)\n",
    "\n",
    "    new_row_data = pd.DataFrame({\n",
    "        'fy': row['fy'],\n",
    "        'month': row['month'],\n",
    "        'hscode': hscode,\n",
    "        'type': vtype,\n",
    "        'fuel': ftype,\n",
    "        'quantity': row['quantity'],\n",
    "        'value': row['value'],\n",
    "        'revenue': row['revenue']\n",
    "    }, index=[0])\n",
    "    new_df = pd.concat([new_df, new_row_data], ignore_index=True)"
   ]
  },
  {
   "cell_type": "code",
   "execution_count": 10,
   "metadata": {},
   "outputs": [],
   "source": [
    "new_df.to_csv('final.csv', index=False)"
   ]
  }
 ],
 "metadata": {
  "kernelspec": {
   "display_name": "venv",
   "language": "python",
   "name": "python3"
  },
  "language_info": {
   "codemirror_mode": {
    "name": "ipython",
    "version": 3
   },
   "file_extension": ".py",
   "mimetype": "text/x-python",
   "name": "python",
   "nbconvert_exporter": "python",
   "pygments_lexer": "ipython3",
   "version": "3.11.8"
  }
 },
 "nbformat": 4,
 "nbformat_minor": 2
}
