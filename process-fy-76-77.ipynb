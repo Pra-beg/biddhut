{
 "cells": [
  {
   "cell_type": "code",
   "execution_count": 2,
   "metadata": {},
   "outputs": [],
   "source": [
    "import os\n",
    "import pandas as pd\n",
    "import re\n",
    "from difflib import get_close_matches"
   ]
  },
  {
   "cell_type": "code",
   "execution_count": 8,
   "metadata": {},
   "outputs": [],
   "source": [
    "months = {\n",
    "    'vaishaakh':1,\n",
    "    'jessth':2,\n",
    "    'asaadh':3,\n",
    "    'shraavnn':4,\n",
    "    'bhaadr':5,\n",
    "    'aashvin':6,\n",
    "    'asoj':6,\n",
    "    'kaartik':7,\n",
    "    'mangshir':8,\n",
    "    'maargsmm': 8,\n",
    "    'pauss':9,\n",
    "    'maagh':10,\n",
    "    'phaagun':11,\n",
    "    'caitr':12\n",
    "}"
   ]
  },
  {
   "cell_type": "code",
   "execution_count": 20,
   "metadata": {},
   "outputs": [],
   "source": [
    "base_dir = 'data/fy-2080-81'\n",
    "files = os.listdir(base_dir)\n",
    "file_details =[] \n",
    "for file in files:\n",
    "    matches = re.match(r'(\\d{4})-(\\w+).xlsx', file)\n",
    "    if matches:\n",
    "        year, month = matches.group(1), matches.group(2)\n",
    "        month_match = get_close_matches(month, months.keys())\n",
    "        if month_match:\n",
    "            month = months[month_match[0]]\n",
    "        else:\n",
    "            raise Exception(\"unable to parse month from title\", month)\n",
    "        file_details.append({\n",
    "            'path': os.path.join(base_dir, file),\n",
    "            'year': year,\n",
    "            'month': month\n",
    "        })"
   ]
  },
  {
   "cell_type": "code",
   "execution_count": 21,
   "metadata": {},
   "outputs": [],
   "source": [
    "def contains(x:str):\n",
    "    if type(x) != str:\n",
    "        return False\n",
    "    x = x.lower()\n",
    "    desired = ['electric']\n",
    "    for word in desired:\n",
    "        if word in x:\n",
    "            return True\n",
    "    return False"
   ]
  },
  {
   "cell_type": "code",
   "execution_count": 22,
   "metadata": {},
   "outputs": [
    {
     "name": "stdout",
     "output_type": "stream",
     "text": [
      "None\n"
     ]
    }
   ],
   "source": [
    "dfs = []\n",
    "for file_info in file_details:\n",
    "    df = pd.DataFrame({'Unnamed':[1,2,3]})\n",
    "    i = 0\n",
    "    while df.columns.str.contains('^Unnamed').sum() > 0:\n",
    "        df = pd.read_excel(file_info['path'], sheet_name=5, header=i)\n",
    "        i+=1\n",
    "    df = df[df['Description'].apply(contains)]\n",
    "    df['year'] = file_info['year']\n",
    "    df['month'] = file_info['month']\n",
    "    print(df['Description'].to_csv(base_dir+\".csv\", index=False))\n",
    "    break"
   ]
  },
  {
   "cell_type": "code",
   "execution_count": null,
   "metadata": {},
   "outputs": [],
   "source": []
  }
 ],
 "metadata": {
  "kernelspec": {
   "display_name": "venv",
   "language": "python",
   "name": "python3"
  },
  "language_info": {
   "codemirror_mode": {
    "name": "ipython",
    "version": 3
   },
   "file_extension": ".py",
   "mimetype": "text/x-python",
   "name": "python",
   "nbconvert_exporter": "python",
   "pygments_lexer": "ipython3",
   "version": "3.11.7"
  }
 },
 "nbformat": 4,
 "nbformat_minor": 2
}
