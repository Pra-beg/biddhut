{
 "cells": [
  {
   "cell_type": "code",
   "execution_count": 17,
   "metadata": {},
   "outputs": [],
   "source": [
    "import pandas as pd"
   ]
  },
  {
   "cell_type": "code",
   "execution_count": 18,
   "metadata": {},
   "outputs": [],
   "source": [
    "df = pd.read_csv('extracted.csv')"
   ]
  },
  {
   "cell_type": "code",
   "execution_count": 19,
   "metadata": {},
   "outputs": [],
   "source": [
    "exceptions = {\n",
    "        '8703.80.39': '8703.80.29',\n",
    "        '8711.30.19': '8711.30.90',\n",
    "        '8711.90.90': '8711.90',\n",
    "        '8703.80.49': '8703.80.50',\n",
    "        '8704.22.96': '8704.22.99',\n",
    "        '8711.30.11': '8711.30.10',\n",
    "        '8704.90.40': '8704.60',\n",
    "        '8711.30.91': '8711.30.10',\n",
    "        '8711.90.10': '8711.60',\n",
    "        '8711.30.99': '8711.30.90',\n",
    "        '8704.22.94': '8704.22.99',\n",
    "        '8702.10.90': '8702.10.49',\n",
    "        '8703.90.11': '8703.80.11'\n",
    "}"
   ]
  },
  {
   "cell_type": "code",
   "execution_count": 20,
   "metadata": {},
   "outputs": [],
   "source": [
    "def hscode_lookup(hscode: int):\n",
    "    lookup = pd.read_csv('hscode/data/fy-2079-80.csv', index_col='Sub-heading')\n",
    "    res = {}\n",
    "    hscode = str(hscode)\n",
    "    if len(hscode) == 8:\n",
    "        hscode = f'{hscode[:4]}.{hscode[4:6]}.{hscode[6:]}'\n",
    "        descriptions = []\n",
    "        duties = {}\n",
    "        while hscode:\n",
    "            while hscode.endswith('.00'):\n",
    "                hscode = hscode[:len(hscode)-3]\n",
    "            hscode = exceptions.get(hscode, hscode)\n",
    "            details = lookup.loc[hscode]\n",
    "            if not duties:\n",
    "                duties['import_duty_saarc'] = details['Import Duty SAARC']\n",
    "                duties['import_duty_general'] = details['Import Duty General']\n",
    "            descriptions.append(details['Description of goods'])\n",
    "            hscode = '.'.join(hscode.split('.')[:len(hscode.split('.'))-1])\n",
    "        res['descriptions'] = descriptions \n",
    "        if duties:\n",
    "            res['duties'] = duties\n",
    "    return res\n"
   ]
  },
  {
   "cell_type": "code",
   "execution_count": 21,
   "metadata": {},
   "outputs": [],
   "source": [
    "res = df['hscode'].apply(hscode_lookup)"
   ]
  }
 ],
 "metadata": {
  "kernelspec": {
   "display_name": "venv",
   "language": "python",
   "name": "python3"
  },
  "language_info": {
   "codemirror_mode": {
    "name": "ipython",
    "version": 3
   },
   "file_extension": ".py",
   "mimetype": "text/x-python",
   "name": "python",
   "nbconvert_exporter": "python",
   "pygments_lexer": "ipython3",
   "version": "3.11.8"
  }
 },
 "nbformat": 4,
 "nbformat_minor": 2
}
