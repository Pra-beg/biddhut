{
 "cells": [
  {
   "cell_type": "code",
   "execution_count": null,
   "metadata": {},
   "outputs": [],
   "source": [
    "import os\n",
    "import pandas as pd\n",
    "import re\n",
    "from difflib import get_close_matches"
   ]
  },
  {
   "cell_type": "code",
   "execution_count": null,
   "metadata": {},
   "outputs": [],
   "source": [
    "months = {\n",
    "    'vaishaakh':1,\n",
    "    'jetth':2,\n",
    "    'jessth':2,\n",
    "    'asaadh':3,\n",
    "    'shraavnn':4,\n",
    "    'bhaadr':5,\n",
    "    'aashvin':6,\n",
    "    'asoj':6,\n",
    "    'kaartik':7,\n",
    "    'mangshir':8,\n",
    "    'maarg': 8,\n",
    "    'pauss':9,\n",
    "    'maagh':10,\n",
    "    'phaagun':11,\n",
    "    'caitr':12\n",
    "}"
   ]
  },
  {
   "cell_type": "code",
   "execution_count": null,
   "metadata": {},
   "outputs": [],
   "source": [
    "fy_dirs = os.listdir('data')\n",
    "fy_dirs = [fy for fy in fy_dirs if int(fy.split('-')[1]) >2073]\n",
    "fy_dirs.sort()\n",
    "fy_dirs"
   ]
  },
  {
   "cell_type": "code",
   "execution_count": null,
   "metadata": {},
   "outputs": [],
   "source": [
    "def prepare_file_details(fy_dir):\n",
    "    base_dir = os.path.join('data', fy_dir)\n",
    "    files = os.listdir(base_dir)\n",
    "    file_details =[] \n",
    "    for file in files:\n",
    "        matches = re.match(r'(\\d{4})-(\\w+).xlsx', file)\n",
    "        if matches:\n",
    "            year, month = matches.group(1), matches.group(2)\n",
    "            month_match = get_close_matches(month, months.keys())\n",
    "            if month_match:\n",
    "                month = months[month_match[0]]\n",
    "            else:\n",
    "                raise Exception(\"unable to parse month from title\", month)\n",
    "            file_details.append({\n",
    "                'path': os.path.join(base_dir, file),\n",
    "                'year': year,\n",
    "                'month': month,\n",
    "                'fy': fy_dir.replace('-', '/')[3:]\n",
    "            })\n",
    "\n",
    "    custom_month_order = [4, 5, 6, 7, 8, 9, 10, 11, 12, 1, 2]\n",
    "    file_details = sorted(file_details, key=lambda x: (x['year'], custom_month_order.index(x['month'])))\n",
    "    return file_details"
   ]
  },
  {
   "cell_type": "code",
   "execution_count": null,
   "metadata": {},
   "outputs": [],
   "source": [
    "def get_df(path:str):\n",
    "    df = pd.DataFrame({'Unnamed':[1,2,3]})\n",
    "    i = 0\n",
    "    while df.columns.str.contains('^Unnamed').sum() > 0:\n",
    "        df = pd.read_excel(path, sheet_name=5, header=i)\n",
    "        if len(df.columns) == 5:\n",
    "            df = pd.read_excel(path,sheet_name=4,header=i)\n",
    "        i+=1\n",
    "    return df"
   ]
  },
  {
   "cell_type": "code",
   "execution_count": null,
   "metadata": {},
   "outputs": [],
   "source": [
    "def filter_rows(df:pd.DataFrame):\n",
    "    filtered = df[df['hscode'].apply(lambda x: str(x).startswith('87'))]\n",
    "    return filtered"
   ]
  },
  {
   "cell_type": "code",
   "execution_count": null,
   "metadata": {},
   "outputs": [],
   "source": [
    "def merge_monthwise_files(file_details):\n",
    "    dfs = []\n",
    "    cumulated_cols = ['quantity', 'value', 'revenue']\n",
    "    for i, file_info in enumerate(file_details):\n",
    "        print('Processing file:', file_info['path'])\n",
    "        df = get_df(file_info['path'])\n",
    "        df.columns = ['hscode', 'description', 'unit', *cumulated_cols]\n",
    "\n",
    "        if i > 0:\n",
    "            prev_df = get_df(file_details[i-1]['path'])\n",
    "            prev_df.columns = ['hscode', 'description', 'unit', *cumulated_cols]\n",
    "            df_temp = df.set_index('description')\n",
    "            prev_df_temp = prev_df.set_index('description')\n",
    "\n",
    "            # Drop duplicate values from the index\n",
    "            df_temp = df_temp[~df_temp.index.duplicated(keep='first')]\n",
    "            prev_df_temp = prev_df_temp[~prev_df_temp.index.duplicated(keep='first')]\n",
    "\n",
    "            df_temp[cumulated_cols] = df_temp[cumulated_cols].subtract(prev_df_temp[cumulated_cols], fill_value=0)\n",
    "            df_temp.reset_index(inplace=True)\n",
    "            \n",
    "            df = df_temp\n",
    "\n",
    "        df = filter_rows(df)\n",
    "\n",
    "        df = df.copy()\n",
    "\n",
    "        # df['year'] = file_info['year']\n",
    "        df['month'] = file_info['month']\n",
    "        df['fy'] = file_info['fy']\n",
    "        dfs.append(df)\n",
    "    \n",
    "    merged_df = pd.concat(dfs, ignore_index=True)\n",
    "    merged_df.dropna(inplace=True)\n",
    "    merged_df = merged_df[['fy', 'month', 'hscode', 'description', 'unit', 'quantity', 'value', 'revenue']]\n",
    "    # merged_df.to_csv(file_details[0]['path'].split('/')[1]+'.csv', index=False)\n",
    "    return merged_df"
   ]
  },
  {
   "cell_type": "code",
   "execution_count": 11,
   "metadata": {},
   "outputs": [],
   "source": [
    "def remove_negatives(df:pd.DataFrame):\n",
    "    df['quantity'] = df['quantity'].apply(lambda x: x if x > -1 else pd.NA)\n",
    "    df['value'] = df['value'].apply(lambda x: x if x > -1 else pd.NA)\n",
    "    df['revenue'] = df['revenue'].apply(lambda x: x if x > -1 else pd.NA)\n",
    "\n",
    "    df.dropna(inplace=True)\n",
    "\n",
    "    df['value'] = df['value'].apply(lambda x: max(x, 0))\n",
    "    df['quantity'] = df['quantity'].apply(lambda x: max(x, 0))\n",
    "    df['revenue'] = df['revenue'].apply(lambda x: max(x, 0))\n",
    "\n",
    "    return df"
   ]
  },
  {
   "cell_type": "code",
   "execution_count": null,
   "metadata": {},
   "outputs": [],
   "source": [
    "yearly_dfs = []\n",
    "for fy_dir in fy_dirs:\n",
    "    file_details = prepare_file_details(fy_dir)\n",
    "    yearly_df = merge_monthwise_files(file_details)    \n",
    "    yearly_dfs.append(yearly_df)\n",
    "\n",
    "final_df = pd.concat(yearly_dfs, ignore_index=True)\n",
    "final_df['hscode'] = final_df['hscode'].apply(lambda x: int(x))\n",
    "final_df.to_csv('extracted.csv', index=False)"
   ]
  },
  {
   "cell_type": "code",
   "execution_count": 12,
   "metadata": {},
   "outputs": [],
   "source": [
    "negative_df = pd.read_csv('extracted.csv')\n",
    "positive_df = remove_negatives(negative_df)\n",
    "positive_df.to_csv('extracted.csv', index=False)"
   ]
  },
  {
   "cell_type": "code",
   "execution_count": null,
   "metadata": {},
   "outputs": [],
   "source": []
  }
 ],
 "metadata": {
  "kernelspec": {
   "display_name": "venv",
   "language": "python",
   "name": "python3"
  },
  "language_info": {
   "codemirror_mode": {
    "name": "ipython",
    "version": 3
   },
   "file_extension": ".py",
   "mimetype": "text/x-python",
   "name": "python",
   "nbconvert_exporter": "python",
   "pygments_lexer": "ipython3",
   "version": "3.11.8"
  }
 },
 "nbformat": 4,
 "nbformat_minor": 2
}
