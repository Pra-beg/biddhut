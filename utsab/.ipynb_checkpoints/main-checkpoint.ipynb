{
 "cells": [
  {
   "cell_type": "code",
   "execution_count": 92,
   "id": "31bb78be",
   "metadata": {},
   "outputs": [],
   "source": [
    "import pandas as pd"
   ]
  },
  {
   "cell_type": "code",
   "execution_count": null,
   "id": "9c8c9308",
   "metadata": {},
   "outputs": [],
   "source": [
    "keywords=['Induction stove',\n",
    "          'Electric car, jeep & van upto 100KW',\n",
    "          'Electric car, jeep & van > 100KW to <=200KW',\n",
    "          'Electric car, jeep & van > 200KW to <=300KW',\n",
    "          'Others (except cycle) motorcycle & scooter with electric motor for propulsion',\n",
    "          'Electric three wheelers vehicles',\n",
    "          'Infrared stove'     \n",
    "         ]\n",
    "def contains(description):\n",
    "    for keyword in keywords:\n",
    "        if keyword==description:\n",
    "            return True\n",
    "    return False         \n",
    "specified_column = \"Description\""
   ]
  },
  {
   "cell_type": "code",
   "execution_count": 106,
   "id": "548b5383",
   "metadata": {},
   "outputs": [],
   "source": [
    "\n",
    "df_shrawan=pd.read_excel(\"FTS_shrawan_7980 (1).xlsx\",sheet_name=\"5_Imports_By_Commodity\",header=2)\n",
    "df_shrawan.dropna(subset=[specified_column], inplace=True)\n",
    "filtered_rows_shrawan= df_shrawan[df_shrawan[specified_column].apply(contains)]\n",
    "filtered_rows_shrawan\n",
    "\n",
    "filtered_rows_shrawan.to_excel('filtered_data.xlsx', sheet_name='shrawan', index=False)\n",
    "\n"
   ]
  },
  {
   "cell_type": "code",
   "execution_count": 108,
   "id": "2e5c2b41",
   "metadata": {},
   "outputs": [],
   "source": [
    "\n",
    "df_bhadra=pd.read_excel(\"FTS_uptobhadra_2079_80.xlsx\",sheet_name=\"5_Imports_By_Commodity\",header=2)\n",
    "# Drop rows with NaN values in the specified column\n",
    "df_bhadra.dropna(subset=[specified_column], inplace=True)\n",
    "\n",
    "\n",
    "filtered_rows_bhadra= df_bhadra[df_bhadra[specified_column].apply(contains)]\n",
    "filtered_rows_bhadra\n",
    "\n",
    "with pd.ExcelWriter('filtered_data.xlsx', engine='openpyxl', mode='a') as writer:\n",
    "    filtered_rows_bhadra.to_excel(writer, sheet_name=\"bhadra\", index=False)\n"
   ]
  }
 ],
 "metadata": {
  "kernelspec": {
   "display_name": "Python 3 (ipykernel)",
   "language": "python",
   "name": "python3"
  },
  "language_info": {
   "codemirror_mode": {
    "name": "ipython",
    "version": 3
   },
   "file_extension": ".py",
   "mimetype": "text/x-python",
   "name": "python",
   "nbconvert_exporter": "python",
   "pygments_lexer": "ipython3",
   "version": "3.11.5"
  }
 },
 "nbformat": 4,
 "nbformat_minor": 5
}
