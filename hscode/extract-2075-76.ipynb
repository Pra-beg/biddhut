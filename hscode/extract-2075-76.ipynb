{
 "cells": [
  {
   "cell_type": "code",
   "execution_count": 1,
   "metadata": {},
   "outputs": [],
   "source": [
    "import pandas as pd\n",
    "import numpy as np\n",
    "from datetime import datetime"
   ]
  },
  {
   "cell_type": "code",
   "execution_count": 2,
   "metadata": {},
   "outputs": [],
   "source": [
    "df = pd.read_excel('data/fy-2075-76.xlsx', header=1)"
   ]
  },
  {
   "cell_type": "code",
   "execution_count": 3,
   "metadata": {},
   "outputs": [],
   "source": [
    "def subheading_fix(x):\n",
    "    if pd.notna(x) and type(x) == datetime and \" \" in str(x):\n",
    "        return f'{x.year}.{x.month}.{x.day}'\n",
    "    return x\n",
    "df = df[df.iloc[:, 0] != \"Heading\"]\n",
    "df = df[df.iloc[:, 4] != 'SAARC']\n",
    "df = df[df.iloc[:, 0] != 1]\n",
    "df.columns = [\"Heading\",\"Sub-heading\",\"Description of goods\",\"Import Duty SAARC\", \"Import Duty General\"]\n",
    "df['Sub-heading'] = df['Sub-heading'].apply(subheading_fix)\n",
    "df[\"Description of goods\"] = df[\"Description of goods\"].apply(lambda x: \" \".join(x.split()))\n",
    "df.reset_index(drop=True, inplace=True)"
   ]
  },
  {
   "cell_type": "code",
   "execution_count": 4,
   "metadata": {},
   "outputs": [
    {
     "name": "stderr",
     "output_type": "stream",
     "text": [
      "/tmp/ipykernel_25088/1324436002.py:4: FutureWarning: Setting an item of incompatible dtype is deprecated and will raise an error in a future version of pandas. Value '87.01' has dtype incompatible with float64, please explicitly cast to a compatible dtype first.\n",
      "  df.loc[ind, 'Heading'] = f'87.{\"0\" if i<9 else \"\"}{i+1}'\n"
     ]
    }
   ],
   "source": [
    "df['Heading'] = np.NaN\n",
    "main_descriptors = df[~df['Description of goods'].str.startswith('-')].index\n",
    "for i, ind in enumerate(main_descriptors):\n",
    "    df.loc[ind, 'Heading'] = f'87.{\"0\" if i<9 else \"\"}{i+1}'"
   ]
  },
  {
   "cell_type": "code",
   "execution_count": 5,
   "metadata": {},
   "outputs": [],
   "source": [
    "def count_hyphens_in_prefix(s):\n",
    "    count = 0\n",
    "    for char in s:\n",
    "        if char == '-':\n",
    "            count += 1\n",
    "        else:\n",
    "            break  # Exit the loop if a non-hyphen character is encountered\n",
    "    return count\n",
    "\n",
    "for i, row in df[::-1].iterrows():\n",
    "    if not pd.notna(row['Sub-heading']):\n",
    "        if pd.notna(row['Heading']):\n",
    "            df.loc[i, 'Sub-heading'] = row['Heading'].replace('.', '')\n",
    "        else:\n",
    "            dashes = count_hyphens_in_prefix(row['Description of goods'])\n",
    "            prev_code = df.loc[i+1]['Sub-heading']\n",
    "            if type(prev_code) == str:\n",
    "                if prev_code.endswith('.00'):\n",
    "                    prev_code = prev_code[:len(prev_code)-3]\n",
    "                if prev_code.endswith('0'):\n",
    "                    new_code = '.'.join(prev_code.split('.')[:-1])\n",
    "                else:\n",
    "                    new_code = prev_code[:len(prev_code)-1]+'0'\n",
    "                df.loc[i, 'Sub-heading'] = new_code\n",
    "\n",
    "df['Heading'] = df['Heading'].ffill()"
   ]
  },
  {
   "cell_type": "code",
   "execution_count": 6,
   "metadata": {},
   "outputs": [],
   "source": [
    "df['Description of goods'] = df['Description of goods'].str.lstrip('-')\n",
    "\n",
    "def remove_trailing_zeros(x):\n",
    "    while x.endswith('.00'):\n",
    "        x = x[:len(x)-3]\n",
    "    return x\n",
    "\n",
    "df['Sub-heading'] = df['Sub-heading'].apply(remove_trailing_zeros)\n",
    "\n",
    "df = df[['Sub-heading', 'Description of goods', 'Import Duty SAARC', 'Import Duty General']]"
   ]
  },
  {
   "cell_type": "code",
   "execution_count": 7,
   "metadata": {},
   "outputs": [],
   "source": [
    "df.to_csv('data/fy-2075-76.csv', index=False)"
   ]
  },
  {
   "cell_type": "code",
   "execution_count": null,
   "metadata": {},
   "outputs": [],
   "source": []
  }
 ],
 "metadata": {
  "kernelspec": {
   "display_name": "venv",
   "language": "python",
   "name": "python3"
  },
  "language_info": {
   "codemirror_mode": {
    "name": "ipython",
    "version": 3
   },
   "file_extension": ".py",
   "mimetype": "text/x-python",
   "name": "python",
   "nbconvert_exporter": "python",
   "pygments_lexer": "ipython3",
   "version": "3.11.8"
  }
 },
 "nbformat": 4,
 "nbformat_minor": 2
}
