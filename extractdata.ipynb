{
 "cells": [
  {
   "cell_type": "code",
   "execution_count": 2,
   "metadata": {},
   "outputs": [
    {
     "name": "stdout",
     "output_type": "stream",
     "text": [
      "                                          Description Unit    Quantity  \\\n",
      "0   Other equipment for the heat treatment of mate...  PCS    157.0000   \n",
      "1   Articles of graphite or other carbon, nes,  fo...   Kg  10683.6255   \n",
      "2   Micro buses (11 to 14 seater) with only electr...  PCS      6.0000   \n",
      "3   Jeep, car & van only electric motor for propul...  PCS      5.0000   \n",
      "4                  Electric car, jeep & van upto 50KW  PCS     21.0000   \n",
      "..                                                ...  ...         ...   \n",
      "72           Electric car, jeep & van 51KW to <=100KW  PCS   3394.0000   \n",
      "73        Electric car, jeep & van > 101KW to <=200KW  PCS     70.0000   \n",
      "74  Electric Car, Jeep, Van with motors pick power...  PCS     18.0000   \n",
      "75           Cycle with electric motor for propulsion  PCS   1426.0000   \n",
      "76  Others (except cycle) motorcycle & scooter wit...  PCS   4060.0000   \n",
      "\n",
      "    Imports_Value  Imports_Revenue    Month  \n",
      "0    9.668974e+02          237.620  shrawan  \n",
      "1    9.328669e+02          173.856  shrawan  \n",
      "2    1.548489e+04         4155.477  shrawan  \n",
      "3    1.282121e+04         3440.855  shrawan  \n",
      "4    4.548234e+04        13610.814  shrawan  \n",
      "..            ...              ...      ...  \n",
      "72   9.589532e+06      4706385.268     magh  \n",
      "73   3.597581e+05       253574.272     magh  \n",
      "74   1.298472e+05       182911.828     magh  \n",
      "75   4.058267e+04         9840.604     magh  \n",
      "76   4.824541e+05       152902.029     magh  \n",
      "\n",
      "[77 rows x 6 columns]\n"
     ]
    }
   ],
   "source": [
    "import pandas as pd\n",
    "import numpy as np\n",
    "\n",
    "\n",
    "def contain(ev):\n",
    "    if type(ev) != str:\n",
    "        return False\n",
    "    ev = ev.lower()\n",
    "    if 'electric' in ev:\n",
    "        for keywords in ['car', 'bus', 'cycle', 'motorbike', 'induction']:\n",
    "            if keywords in ev:\n",
    "                return True\n",
    "    return False\n",
    "\n",
    "\n",
    "# dataimport from excel\n",
    "filenames = ['shrawan.xlsx', 'FTS_upto_Bhadra2080_81.xlsx', 'FTS_UptoAsoj_2080_81.xlsx',\n",
    "             'FTS_Uptokartik_2080_81.xlsx', 'FTS_UptoMangsir_2080_81.xlsx', 'FTS.xlsx', 'FTS_Upto-Magh_2080_81-1 (1).xlsx']\n",
    "months = ['shrawan', 'bhadra', 'ashwin', 'kartik', 'mangsir',\n",
    "          'poush', 'magh', 'falgun', 'chaitra', 'baishak', 'jestha']\n",
    "dfs = []\n",
    "# prev_quantity = 0\n",
    "prev_df = None\n",
    "for i, filename in enumerate(filenames):\n",
    "    df = pd.read_excel(filename, sheet_name=\"5_Imports_By_Commodity\", header=2)\n",
    "\n",
    "    # Rename and drop columns\n",
    "    df.rename(columns={'HSCode': 'Sn No'}, inplace=True)\n",
    "    df.drop(columns=['Sn No'], inplace=True)\n",
    "\n",
    "    df = df[df[\"Description\"].apply(contain)]\n",
    "\n",
    "\n",
    "    df['Month'] = months[i]\n",
    "\n",
    "    dfs.append(df)\n",
    "    prev_df = df.copy()\n",
    "merge_df = pd.concat(dfs)\n",
    "merge_df.reset_index(drop=True, inplace=True)\n",
    "# merge_df.to_csv(r'C:\\Users\\acer\\biddhut\\rahul\\data.csv', index=False)\n",
    "print(merge_df)\n"
   ]
  }
 ],
 "metadata": {
  "kernelspec": {
   "display_name": "Python 3",
   "language": "python",
   "name": "python3"
  },
  "language_info": {
   "codemirror_mode": {
    "name": "ipython",
    "version": 3
   },
   "file_extension": ".py",
   "mimetype": "text/x-python",
   "name": "python",
   "nbconvert_exporter": "python",
   "pygments_lexer": "ipython3",
   "version": "3.11.3"
  }
 },
 "nbformat": 4,
 "nbformat_minor": 2
}
